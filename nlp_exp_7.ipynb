{
  "nbformat": 4,
  "nbformat_minor": 0,
  "metadata": {
    "colab": {
      "provenance": [],
      "authorship_tag": "ABX9TyNgsKN00pS2U7t9LtWmtGoJ",
      "include_colab_link": true
    },
    "kernelspec": {
      "name": "python3",
      "display_name": "Python 3"
    },
    "language_info": {
      "name": "python"
    }
  },
  "cells": [
    {
      "cell_type": "markdown",
      "metadata": {
        "id": "view-in-github",
        "colab_type": "text"
      },
      "source": [
        "<a href=\"https://colab.research.google.com/github/harikakatta08/Colab/blob/main/nlp_exp_7.ipynb\" target=\"_parent\"><img src=\"https://colab.research.google.com/assets/colab-badge.svg\" alt=\"Open In Colab\"/></a>"
      ]
    },
    {
      "cell_type": "code",
      "source": [
        "!pip install gensim\n"
      ],
      "metadata": {
        "colab": {
          "base_uri": "https://localhost:8080/"
        },
        "id": "ECtDx375q2-o",
        "outputId": "9512610c-b200-4246-98f8-51a5e33573eb"
      },
      "execution_count": 2,
      "outputs": [
        {
          "output_type": "stream",
          "name": "stdout",
          "text": [
            "Requirement already satisfied: gensim in /usr/local/lib/python3.10/dist-packages (4.3.2)\n",
            "Requirement already satisfied: numpy>=1.18.5 in /usr/local/lib/python3.10/dist-packages (from gensim) (1.25.2)\n",
            "Requirement already satisfied: scipy>=1.7.0 in /usr/local/lib/python3.10/dist-packages (from gensim) (1.11.4)\n",
            "Requirement already satisfied: smart-open>=1.8.1 in /usr/local/lib/python3.10/dist-packages (from gensim) (6.4.0)\n"
          ]
        }
      ]
    },
    {
      "cell_type": "code",
      "source": [
        "import nltk\n",
        "nltk.download('punkt')"
      ],
      "metadata": {
        "colab": {
          "base_uri": "https://localhost:8080/"
        },
        "id": "cWweXXEzr31w",
        "outputId": "1e544ed8-e76e-47bf-89e0-c90817b45523"
      },
      "execution_count": 9,
      "outputs": [
        {
          "output_type": "stream",
          "name": "stderr",
          "text": [
            "[nltk_data] Downloading package punkt to /root/nltk_data...\n",
            "[nltk_data]   Unzipping tokenizers/punkt.zip.\n"
          ]
        },
        {
          "output_type": "execute_result",
          "data": {
            "text/plain": [
              "True"
            ]
          },
          "metadata": {},
          "execution_count": 9
        }
      ]
    },
    {
      "cell_type": "code",
      "execution_count": 11,
      "metadata": {
        "colab": {
          "base_uri": "https://localhost:8080/"
        },
        "id": "8v56czZQqpIz",
        "outputId": "3d5bedce-6bc5-4a92-8cc1-bf3c09149012"
      },
      "outputs": [
        {
          "output_type": "stream",
          "name": "stdout",
          "text": [
            "cosine similarity between 'alice'And 'wonderland'-CBOW: -0.10513808\n",
            "Cosine similarity between 'alice' and 'machines' - CBOW :  -0.09575343\n",
            "Cosine similarity between 'alice' and 'wonderland' - Skip Gram :  -0.10513808\n",
            "Cosine similarity between 'alice' and 'machines' - Skip Gram :  -0.09575343\n"
          ]
        }
      ],
      "source": [
        "from nltk.tokenize import sent_tokenize, word_tokenize\n",
        "import warnings\n",
        "warnings.filterwarnings(action = 'ignore')\n",
        "import gensim\n",
        "from gensim.models import Word2Vec\n",
        "sample = open(\"/content/words1.txt\")\n",
        "s=sample.read()\n",
        "f=s.replace(\"\\n\",\" \")\n",
        "data=[]\n",
        "for i in sent_tokenize(f):\n",
        "    temp=[]\n",
        "    for j in word_tokenize(i):\n",
        "        temp.append(j.lower())\n",
        "    data.append(temp)\n",
        "model1=gensim.models.Word2Vec(data,min_count=1,vector_size=100,window=5)\n",
        "print(\"cosine similarity between 'alice'\"+\"And 'wonderland'-CBOW:\",model1.wv.similarity('alice','wonderland') )\n",
        "print(\"Cosine similarity between 'alice' \" + \"and 'machines' - CBOW : \", model1.wv.similarity('alice', 'machines'))\n",
        "model2 = gensim.models.Word2Vec(data, min_count = 1, vector_size = 100,window = 5, sg = 1)\n",
        "\n",
        "print(\"Cosine similarity between 'alice' \" +  \"and 'wonderland' - Skip Gram : \",  model2.wv.similarity('alice', 'wonderland'))\n",
        "print(\"Cosine similarity between 'alice' \" +  \"and 'machines' - Skip Gram : \", model2.wv.similarity('alice', 'machines'))"
      ]
    }
  ]
}